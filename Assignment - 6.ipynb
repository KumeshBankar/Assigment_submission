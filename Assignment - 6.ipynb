{
 "cells": [
  {
   "cell_type": "markdown",
   "id": "e95b6013",
   "metadata": {},
   "source": [
    "1) Question\n",
    "\n",
    "Python keywords are the reserved words which can not used for anything but those specific purposes. These keywords need not to be import\n",
    "\n"
   ]
  },
  {
   "cell_type": "code",
   "execution_count": 3,
   "id": "6acb2225",
   "metadata": {},
   "outputs": [],
   "source": [
    "import keyword"
   ]
  },
  {
   "cell_type": "code",
   "execution_count": 5,
   "id": "7bb3e172",
   "metadata": {},
   "outputs": [
    {
     "data": {
      "text/plain": [
       "['False',\n",
       " 'None',\n",
       " 'True',\n",
       " 'and',\n",
       " 'as',\n",
       " 'assert',\n",
       " 'async',\n",
       " 'await',\n",
       " 'break',\n",
       " 'class',\n",
       " 'continue',\n",
       " 'def',\n",
       " 'del',\n",
       " 'elif',\n",
       " 'else',\n",
       " 'except',\n",
       " 'finally',\n",
       " 'for',\n",
       " 'from',\n",
       " 'global',\n",
       " 'if',\n",
       " 'import',\n",
       " 'in',\n",
       " 'is',\n",
       " 'lambda',\n",
       " 'nonlocal',\n",
       " 'not',\n",
       " 'or',\n",
       " 'pass',\n",
       " 'raise',\n",
       " 'return',\n",
       " 'try',\n",
       " 'while',\n",
       " 'with',\n",
       " 'yield']"
      ]
     },
     "execution_count": 5,
     "metadata": {},
     "output_type": "execute_result"
    }
   ],
   "source": [
    "keyword.kwlist"
   ]
  },
  {
   "cell_type": "markdown",
   "id": "bfb15b98",
   "metadata": {},
   "source": [
    "2) Question \n",
    "\n",
    "Variable name must start with a letter.\n",
    "\n",
    "It can not start with numerical number.\n",
    "\n",
    "variable name can oly contain alpha numeric value and underscores."
   ]
  },
  {
   "cell_type": "markdown",
   "id": "e92f4825",
   "metadata": {},
   "source": [
    "3) Question\n",
    "\n",
    "use the descriptive name that convey the purpose, meaning or the rolr of variable.\n",
    "\n",
    "Follow the consistent naming convention through out your database.\n",
    "\n"
   ]
  },
  {
   "cell_type": "markdown",
   "id": "86d1f8f2",
   "metadata": {},
   "source": [
    "4) Question\n",
    "\n",
    "If used keyword as a variable then it will confused the code and make it difficult to read code."
   ]
  },
  {
   "cell_type": "markdown",
   "id": "60bb13ca",
   "metadata": {},
   "source": [
    "5) Question \n",
    "\n",
    "def keyword is used o create the function."
   ]
  },
  {
   "cell_type": "markdown",
   "id": "9e63516b",
   "metadata": {},
   "source": [
    "6) Question\n",
    "\n",
    "This character(/) shows that as escape character."
   ]
  },
  {
   "cell_type": "markdown",
   "id": "c2ad6079",
   "metadata": {},
   "source": [
    "7) Question\n",
    "\n",
    "Homogeneous list = [1,2,3,4,5,6]\n",
    "\n",
    "Heterogeneous set = {1,'hello',True}\n",
    "\n",
    "Homogenous tuple = (1,2,3)"
   ]
  },
  {
   "cell_type": "markdown",
   "id": "2aae554d",
   "metadata": {},
   "source": [
    "8) Question\n",
    "\n",
    "Mutable objects are such they can be changed after they are created.Example are list and dictionary.\n",
    "\n",
    "Immutable objects are such they can not be changed after they are created.Example are tuple."
   ]
  },
  {
   "cell_type": "code",
   "execution_count": 1,
   "id": "168c25a3",
   "metadata": {},
   "outputs": [],
   "source": [
    "9) Question\n",
    "\n",
    "def triangle(n):\n",
    "     \n",
    "    # number of spaces\n",
    "    k = n - 1\n",
    " \n",
    "    # outer loop to handle number of rows\n",
    "    for i in range(0, n):\n",
    "     \n",
    "        # inner loop to handle number spaces\n",
    "        # values changing acc. to requirement\n",
    "        for j in range(0, k):\n",
    "            print(end=\" \")\n",
    "     \n",
    "        # decrementing k after each loop\n",
    "        k = k - 1\n",
    "     \n",
    "        # inner loop to handle number of columns\n",
    "        # values changing acc. to outer loop\n",
    "        for j in range(0, i+1):\n",
    "         \n",
    "            # printing stars\n",
    "            print(\"*\",end=\" \")\n",
    "     \n",
    "        # ending line after each row\n",
    "        print(\"\\r\")"
   ]
  },
  {
   "cell_type": "code",
   "execution_count": 2,
   "id": "ea83b844",
   "metadata": {},
   "outputs": [
    {
     "name": "stdout",
     "output_type": "stream",
     "text": [
      "     * \r\n",
      "    * * \r\n",
      "   * * * \r\n",
      "  * * * * \r\n",
      " * * * * * \r\n",
      "* * * * * * \r\n"
     ]
    }
   ],
   "source": [
    "n=6\n",
    "triangle(6)"
   ]
  },
  {
   "cell_type": "code",
   "execution_count": 7,
   "id": "9f92107a",
   "metadata": {},
   "outputs": [
    {
     "name": "stdout",
     "output_type": "stream",
     "text": [
      "Enter the number of rows: 5\n",
      "| | | | | \n",
      " | | | | \n",
      "  | | | \n",
      "   | | \n",
      "    | \n"
     ]
    }
   ],
   "source": [
    "10) Question\n",
    "\n",
    "def pattern(n):\n",
    "   i = n\n",
    "   while i>=1:\n",
    "      # printing stars\n",
    "      print(\" \"*(n-i) + \"| \" * i)\n",
    "      i-=1 \n",
    " \n",
    "# take inputs\n",
    "n = int(input('Enter the number of rows: '))\n",
    "\n",
    "# calling function\n",
    "pattern(n)"
   ]
  }
 ],
 "metadata": {
  "kernelspec": {
   "display_name": "Python 3 (ipykernel)",
   "language": "python",
   "name": "python3"
  },
  "language_info": {
   "codemirror_mode": {
    "name": "ipython",
    "version": 3
   },
   "file_extension": ".py",
   "mimetype": "text/x-python",
   "name": "python",
   "nbconvert_exporter": "python",
   "pygments_lexer": "ipython3",
   "version": "3.10.9"
  }
 },
 "nbformat": 4,
 "nbformat_minor": 5
}
