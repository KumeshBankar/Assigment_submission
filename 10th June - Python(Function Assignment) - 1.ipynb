{
 "cells": [
  {
   "cell_type": "markdown",
   "id": "4fd44b78",
   "metadata": {},
   "source": [
    "1) Question\n",
    "\n",
    "User define fuction are those function which user define by user for himself. Ex:- def Hello():\n",
    "\n",
    "Build in function are those function which already comes with python function not define by user. Ex:- np.append()\n"
   ]
  },
  {
   "cell_type": "markdown",
   "id": "6bb5ab87",
   "metadata": {},
   "source": [
    "2) Question\n",
    "\n",
    "In function argument are pass within the parenthesis. such as def Hello(x) so x is the argument.\n",
    "\n",
    "Position argument passed to function without equal sign(=) and default value.\n",
    "\n",
    "Keyword argument passed to function equal sign(=) and expression that gives its default value."
   ]
  },
  {
   "cell_type": "markdown",
   "id": "869bb62a",
   "metadata": {},
   "source": [
    "3) Question\n",
    "\n",
    "The return statement written at the end of function and its gives return value to function.\n",
    "\n",
    "Yes in function have many return statement.\n",
    "\n",
    "Example\n",
    "\n",
    "def type_of_int(i):\n",
    "    if i % 2 == 0:\n",
    "        return 'even'\n",
    "    else:\n",
    "        return 'odd'\n",
    " \n",
    "result = type_of_int(7)\n",
    " \n",
    "print(result)"
   ]
  },
  {
   "cell_type": "code",
   "execution_count": null,
   "id": "0afed957",
   "metadata": {},
   "outputs": [],
   "source": [
    "4) Question\n",
    "\n",
    "Lambda function are user define fumction but without name.\n",
    "\n",
    "In lambda function there is no need of return statement. In redular function need of return statement to evaluate expression.\n",
    "\n",
    "Example:- numbers = [1, 2, 3, 4, 5]\n",
    "\n",
    "squared_numbers = list(map(lambda x: x**2, numbers))\n",
    "\n",
    "print(squared_numbers) \n"
   ]
  },
  {
   "cell_type": "markdown",
   "id": "d0177e1d",
   "metadata": {},
   "source": [
    "5) Question\n",
    "\n",
    "The function create scope so that variable define exclusively within the function cannot be accessed from outside the function and or within other function.\n",
    "\n",
    "Global scope variable are those variable which are not define inside the function. And local scope variable are define inside the function."
   ]
  },
  {
   "cell_type": "markdown",
   "id": "8864e9c1",
   "metadata": {},
   "source": [
    "6) 6) Question \n",
    "\n",
    "To get multiple return value for that need to supply several return value seperated by commas."
   ]
  },
  {
   "cell_type": "markdown",
   "id": "75ba5ae3",
   "metadata": {},
   "source": [
    "7) Question \n",
    "\n",
    "When we pass the function by reference then those arguments are only refernces to existing value.\n",
    "\n",
    "when we pass the function by value then those argument are pass a copy of value in memory."
   ]
  },
  {
   "cell_type": "code",
   "execution_count": null,
   "id": "36ad773b",
   "metadata": {},
   "outputs": [],
   "source": [
    "8) Question\n",
    "\n",
    "Logarithmic function\n",
    "\n",
    "def logarithmic(x):\n",
    "    return np.log(x)\n",
    "\n",
    "def Expotential(x):\n",
    "    return np.exp(x)\n",
    "\n",
    "def power with base(x):\n",
    "    return 2**x\n",
    "\n",
    "def squareroot(x):\n",
    "    return np.sqrt(x)"
   ]
  },
  {
   "cell_type": "code",
   "execution_count": null,
   "id": "df8973f5",
   "metadata": {},
   "outputs": [],
   "source": [
    "9) Question\n",
    "\n",
    "def name(fullname):\n",
    "    fullname.split()\n",
    "    first_name = fullname.split[0]\n",
    "    last_name = fullname.split[-1]\n",
    "    print(first_name + ',' + last_name)"
   ]
  }
 ],
 "metadata": {
  "kernelspec": {
   "display_name": "Python 3 (ipykernel)",
   "language": "python",
   "name": "python3"
  },
  "language_info": {
   "codemirror_mode": {
    "name": "ipython",
    "version": 3
   },
   "file_extension": ".py",
   "mimetype": "text/x-python",
   "name": "python",
   "nbconvert_exporter": "python",
   "pygments_lexer": "ipython3",
   "version": "3.10.9"
  }
 },
 "nbformat": 4,
 "nbformat_minor": 5
}
