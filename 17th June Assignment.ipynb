{
 "cells": [
  {
   "cell_type": "markdown",
   "id": "4ea21b5f",
   "metadata": {},
   "source": [
    "1) Question\n",
    "\n",
    "The role of try block is set of statements in which expections can occure.Its is used to enclose the code taht might throw an error.\n",
    "\n",
    "The role exception block is the program response to any exceptions in the preceding try cluase."
   ]
  },
  {
   "cell_type": "code",
   "execution_count": null,
   "id": "e0447a39",
   "metadata": {},
   "outputs": [],
   "source": [
    "2) Question\n",
    "\n",
    "syntax is\n",
    "\n",
    "try:\n",
    "    code block 1\n",
    "except ExceptionName:\n",
    "    code block \n",
    "    "
   ]
  },
  {
   "cell_type": "markdown",
   "id": "8fd67cf8",
   "metadata": {},
   "source": [
    "3) Question\n",
    "\n",
    "If there is no catch block that matches the type of thrown exception, the program will terminate and an error message will thrown."
   ]
  },
  {
   "cell_type": "markdown",
   "id": "34ca00dd",
   "metadata": {},
   "source": [
    "4) Question\n",
    "\n",
    "A bare except clause will catch system exit and ketboardinterrupt exception.\n",
    "\n",
    "Specifying special clause allow us to handle each exception differently."
   ]
  },
  {
   "cell_type": "code",
   "execution_count": null,
   "id": "6e768eba",
   "metadata": {},
   "outputs": [],
   "source": [
    "5) Question\n",
    "\n",
    "Yes, there can be multiple nested try-except block.\n",
    "\n",
    "Example:-\n",
    "    \n",
    "ef __getattribute__(self, item):\n",
    "    try:\n",
    "        return object.__getattribute__(item)\n",
    "    except AttributeError:\n",
    "        try:\n",
    "            return self.dict[item]\n",
    "        except KeyError:\n",
    "            print \"The object doesn't have such attribute\""
   ]
  },
  {
   "cell_type": "code",
   "execution_count": null,
   "id": "8aacfa36",
   "metadata": {},
   "outputs": [],
   "source": [
    "6) Question\n",
    "\n",
    "Yes, there can be multiple exception block.\n",
    "\n",
    "This method allows us to handle different exception types in different ways making it ideal when we need to perform specific action for each type of exception.\n",
    "\n",
    "Multiple exception as parenthesized tuple\n",
    "\n",
    "string = input()\n",
    "\n",
    "try:\n",
    "    num = int(input())\n",
    "    print(string+num)\n",
    "except (TypeError, ValueError) as e:\n",
    "    print(e)"
   ]
  },
  {
   "cell_type": "markdown",
   "id": "d742e56e",
   "metadata": {},
   "source": [
    "7) Question\n",
    "\n",
    "EOF means End of file. This is a syntax error occurs when python detects unfinished statement or block of code.\n",
    "\n",
    "FloatingPointError raised beacuse computer store real number using finite number of bots, leading to approximations and potentail accuracies.\n",
    "\n",
    "IndexError raised beacause when we access the element in a list using an index that is outside the valid range of indices for that sequence.\n",
    "\n",
    "MemoryError occured beacause when system runs out of memory.\n",
    "\n",
    "OverflowError occured when available storage space for a variable or data type is insufficient to hold the value being assigned to it.\n",
    "\n",
    "TabError occured due to when we mix tabs and spaces to indent lines in a code block.\n",
    "\n",
    "ValueError occured when value is incorrect for the intended together or if value is missing altogether."
   ]
  },
  {
   "cell_type": "code",
   "execution_count": null,
   "id": "a7a4c42d",
   "metadata": {},
   "outputs": [],
   "source": [
    "8) Question\n",
    "\n",
    "1) Program to divide two number\n",
    "\n",
    "def divide(x, y):\n",
    "    try:\n",
    "        # Floor Division : Gives only Fractional Part as Answer\n",
    "        result = x // y\n",
    "        print(\"Yeah ! Your answer is :\", result)\n",
    "    except ZeroDivisionError:\n",
    "        print(\"Sorry ! You are dividing by zero \")\n",
    " \n",
    "# Look at parameters and note the working of Program\n",
    "divide(3, 2)\n",
    "\n",
    "2) Program to convert a string to an integer\n",
    "\n",
    "def number_value(x):\n",
    "    try:\n",
    "        number = int(x)\n",
    "        print(\"Converted integer:\",number)\n",
    "    except ValueError:\n",
    "        print(\"Invalid input\")\n",
    "        \n",
    "number_value(10)\n",
    "\n",
    "3) Program to access an element in a list\n",
    "\n",
    "def index(l):\n",
    "    try:\n",
    "        print(l[2])\n",
    "    except IndexError:\n",
    "        print(\"Index out of Bond\")\n",
    "        \n",
    "index([2,4,6,8,10])\n",
    "\n",
    "4) Program to handle a specific exception\n",
    "\n",
    "def hello(numerator,Denominator):\n",
    "    try:\n",
    "        result = numerator/Denominator\n",
    "    except SpecificError:\n",
    "        print(\"Error:Denominator cannot be zero\")\n",
    "        \n",
    "hello(10,0)\n",
    "\n",
    "5) Program to handle any exception\n",
    "\n",
    "try:\n",
    "    numerator = 10\n",
    "    denominator = 0\n",
    "\n",
    "    result = numerator/denominator\n",
    "\n",
    "    print(result)\n",
    "except:\n",
    "    print(\"Error: Denominator cannot be 0.\")\n",
    "\n",
    "# Output: Error: Denominator cannot be 0. "
   ]
  }
 ],
 "metadata": {
  "kernelspec": {
   "display_name": "Python 3 (ipykernel)",
   "language": "python",
   "name": "python3"
  },
  "language_info": {
   "codemirror_mode": {
    "name": "ipython",
    "version": 3
   },
   "file_extension": ".py",
   "mimetype": "text/x-python",
   "name": "python",
   "nbconvert_exporter": "python",
   "pygments_lexer": "ipython3",
   "version": "3.10.9"
  }
 },
 "nbformat": 4,
 "nbformat_minor": 5
}
