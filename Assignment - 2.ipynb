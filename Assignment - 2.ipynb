{
 "cells": [
  {
   "cell_type": "markdown",
   "id": "5e53d353",
   "metadata": {},
   "source": [
    "1)\n",
    "\n",
    "Two boolean data types = True and False\n",
    "\n",
    "Written syntax = bool(Expression)\n"
   ]
  },
  {
   "cell_type": "markdown",
   "id": "8caa85d7",
   "metadata": {},
   "source": [
    "2)\n",
    "\n",
    "Three boolean operators = And , OR, Not"
   ]
  },
  {
   "cell_type": "markdown",
   "id": "f0bb31ac",
   "metadata": {},
   "source": [
    "3)\n",
    "\n",
    "For And Operator\n",
    "\n",
    "True and True = True\n",
    "\n",
    "True and False = False\n",
    "\n",
    "False and True = False\n",
    "\n",
    "False and False = False\n",
    "\n",
    "For OR operator\n",
    "\n",
    "True OR True = True\n",
    "\n",
    "True OR False = True\n",
    "\n",
    "False OR True = True\n",
    "\n",
    "False OR False = False\n",
    "\n",
    "For NOT Operator\n",
    "\n",
    "NOT True = False\n",
    "\n",
    "Not False = True"
   ]
  },
  {
   "cell_type": "markdown",
   "id": "8acf33d9",
   "metadata": {},
   "source": [
    "4)\n",
    "\n",
    "(5 > 4) and (3 == 5) = False\n",
    "\n",
    "not (5 > 4) = False\n",
    "\n",
    "(5 > 4) or (3 == 5) = True\n",
    "\n",
    "not ((5 > 4) or (3 == 5)) = False\n",
    "\n",
    "(True and True) and (True == False) = False\n",
    "\n",
    "(not False) or (not True) = True"
   ]
  },
  {
   "cell_type": "markdown",
   "id": "3d5618fd",
   "metadata": {},
   "source": [
    "5)\n",
    "\n",
    "Comparision operators =\n",
    "\n",
    "1) Equal to(==)\n",
    "\n",
    "2) Greater than(>)\n",
    "\n",
    "3) Less than(<)\n",
    "\n",
    "4) Not equal to(!=)\n",
    "\n",
    "5) Greater than equal to(>=)\n",
    "\n",
    "6) Less than equal to(<=)"
   ]
  },
  {
   "cell_type": "markdown",
   "id": "42d9a507",
   "metadata": {},
   "source": [
    "6)\n",
    "\n",
    "Equal to operator is used for the comparision between two values are same or not.(==).\n",
    "\n",
    "Assignment operator are used to assign a value to a variable for store.(variable = value).\n",
    "\n",
    "Equal to(==) = for comparision\n",
    "Assignment operator(=) = for assign a value for variable"
   ]
  },
  {
   "cell_type": "markdown",
   "id": "ceb22f33",
   "metadata": {},
   "source": [
    "7.\n",
    "\n",
    "spam = 0\n",
    "\n",
    "if spam == 10:\n",
    "\n",
    "    print('eggs')  # First block\n",
    "\n",
    "if spam > 5:\n",
    "\n",
    "    print('bacon')  # Second block\n",
    "    \n",
    "else:\n",
    "\n",
    "    print('ham')     # Third block\n",
    "\n",
    "print('spam')\n"
   ]
  },
  {
   "cell_type": "markdown",
   "id": "37af397e",
   "metadata": {},
   "source": [
    "8)\n",
    "\n",
    "if spam == 1:\n",
    "\n",
    "    print('Hello') \n",
    "\n",
    "if spam == 2:\n",
    "\n",
    "    print('Howdy')  \n",
    "    \n",
    "else:\n",
    "\n",
    "    print('Greetings')     \n",
    "\n"
   ]
  },
  {
   "cell_type": "markdown",
   "id": "400119eb",
   "metadata": {},
   "source": [
    "9)\n",
    "\n",
    "Keys will press = Ctrl-C"
   ]
  },
  {
   "cell_type": "markdown",
   "id": "2cd4e237",
   "metadata": {},
   "source": [
    "10)\n",
    "\n",
    "Break is used for discountinue the loop. It stops the entire loop. It not iterate any other furthur loop.\n",
    "\n",
    "Continue is used for to continue the furthur loop for iteration. It stop the current iteration of loop."
   ]
  },
  {
   "cell_type": "markdown",
   "id": "426997bf",
   "metadata": {},
   "source": [
    "11)\n",
    "\n",
    "Range(10) :- It will iterate the loop from 0 to 9 in which start from 0 by default.\n",
    "    \n",
    "Range(0,10) :- It will iterate the loop from 0 to 9 in which start from 0 upto 9. In this range already given start value and stop value.\n",
    "\n",
    "Range(0,10,1) :- In this function given start, stop and step value."
   ]
  },
  {
   "cell_type": "markdown",
   "id": "d4a16acc",
   "metadata": {},
   "source": [
    "12)\n",
    "\n",
    "Program for For loop\n",
    "\n",
    "for i in range(0,11):\n",
    "\n",
    "    print(i)\n",
    "\n",
    "Program for While loop\n",
    "\n",
    "while i >=10:\n",
    "\n",
    "    print(i)\n",
    "    \n",
    "    i=i+1"
   ]
  },
  {
   "cell_type": "markdown",
   "id": "c8a617f9",
   "metadata": {},
   "source": [
    "13)\n",
    "\n",
    "The function can be called as :-\n",
    "    \n",
    "spam.bacon()"
   ]
  }
 ],
 "metadata": {
  "kernelspec": {
   "display_name": "Python 3 (ipykernel)",
   "language": "python",
   "name": "python3"
  },
  "language_info": {
   "codemirror_mode": {
    "name": "ipython",
    "version": 3
   },
   "file_extension": ".py",
   "mimetype": "text/x-python",
   "name": "python",
   "nbconvert_exporter": "python",
   "pygments_lexer": "ipython3",
   "version": "3.10.9"
  }
 },
 "nbformat": 4,
 "nbformat_minor": 5
}
