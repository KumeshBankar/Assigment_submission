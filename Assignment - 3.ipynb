{
 "cells": [
  {
   "cell_type": "markdown",
   "id": "d6b6aba4",
   "metadata": {},
   "source": [
    "1) Question\n",
    "\n",
    "Advantages of Function are:-\n",
    "\n",
    "Function can be used multiple times. So, it can avoid to write the same logic again and again in program."
   ]
  },
  {
   "cell_type": "markdown",
   "id": "4df96a38",
   "metadata": {},
   "source": [
    "2) Question\n",
    "\n",
    "The code in the function run when it is called."
   ]
  },
  {
   "cell_type": "markdown",
   "id": "875b5e13",
   "metadata": {},
   "source": [
    "3) Question\n",
    "\n",
    "Function statement are written as:\n",
    "    \n",
    "First write the def keyword and then namme of Function and followed by parentheses and colon."
   ]
  },
  {
   "cell_type": "markdown",
   "id": "7d3a5e88",
   "metadata": {},
   "source": [
    "4) Question\n",
    "\n",
    "Function is define by writing a block of code inside a function.\n",
    "\n",
    "Function call is called for to executing the code inside the function"
   ]
  },
  {
   "cell_type": "markdown",
   "id": "50d0a7cc",
   "metadata": {},
   "source": [
    "5) Question\n",
    "\n",
    "There is only one global python scope per program execution.\n",
    "\n",
    "Local scope created whenever the function is called."
   ]
  },
  {
   "cell_type": "markdown",
   "id": "1edcc144",
   "metadata": {},
   "source": [
    "6) Question\n",
    "\n",
    "When Function returns the local scope is destroyed and all the variable in it are forgotten."
   ]
  },
  {
   "cell_type": "markdown",
   "id": "67804755",
   "metadata": {},
   "source": [
    "7) Question\n",
    "\n",
    "The value the function return when program is completelly run.\n",
    "\n",
    "The return statement written with help of expression.So, it not return expression but value inform of integer or string."
   ]
  },
  {
   "cell_type": "markdown",
   "id": "b612a97e",
   "metadata": {},
   "source": [
    "8) Question\n",
    "\n",
    "If in a function there is no return statement then its return as a None."
   ]
  },
  {
   "cell_type": "markdown",
   "id": "753a5a4a",
   "metadata": {},
   "source": [
    "9) Question\n",
    "\n",
    "To make a function variable to global variable we have to use the global keyword."
   ]
  },
  {
   "cell_type": "markdown",
   "id": "4edfcd5f",
   "metadata": {},
   "source": [
    "10) Question\n",
    "\n",
    "Data type of None is NoneType"
   ]
  },
  {
   "cell_type": "markdown",
   "id": "bca00e33",
   "metadata": {},
   "source": [
    "11) Question\n",
    "\n",
    "That import a module name as areallyourpetsnamederic"
   ]
  },
  {
   "cell_type": "markdown",
   "id": "aad309dc",
   "metadata": {},
   "source": [
    "12) Question\n",
    "\n",
    "We call as it is fuction available in a spam module."
   ]
  },
  {
   "cell_type": "markdown",
   "id": "3e6b4518",
   "metadata": {},
   "source": [
    "13) Question\n",
    "\n",
    "To save a program from crashing we can used the try-Except block to catch and handle error."
   ]
  },
  {
   "cell_type": "markdown",
   "id": "1df1fee4",
   "metadata": {},
   "source": [
    "14) Question\n",
    "\n",
    "Try clause purpose is to handle the block of code for errors.\n",
    "\n",
    "Except clause purpose is to handle the expection occure in try clause."
   ]
  }
 ],
 "metadata": {
  "kernelspec": {
   "display_name": "Python 3 (ipykernel)",
   "language": "python",
   "name": "python3"
  },
  "language_info": {
   "codemirror_mode": {
    "name": "ipython",
    "version": 3
   },
   "file_extension": ".py",
   "mimetype": "text/x-python",
   "name": "python",
   "nbconvert_exporter": "python",
   "pygments_lexer": "ipython3",
   "version": "3.10.9"
  }
 },
 "nbformat": 4,
 "nbformat_minor": 5
}
