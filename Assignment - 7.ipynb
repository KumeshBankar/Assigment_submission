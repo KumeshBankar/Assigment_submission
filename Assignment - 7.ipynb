{
 "cells": [
  {
   "cell_type": "markdown",
   "id": "5d1f3dd5",
   "metadata": {},
   "source": [
    "1) Question\n"
   ]
  },
  {
   "cell_type": "code",
   "execution_count": 1,
   "id": "e831d89f",
   "metadata": {},
   "outputs": [],
   "source": [
    "x = 10\n",
    "y = 20\n",
    "\n",
    "import numpy as np"
   ]
  },
  {
   "cell_type": "code",
   "execution_count": 5,
   "id": "cf5254ca",
   "metadata": {},
   "outputs": [
    {
     "name": "stdout",
     "output_type": "stream",
     "text": [
      "Addition:- 30\n",
      "Subtraction:- -10\n",
      "Multiplication:- 200\n",
      "Division:- 0.5\n"
     ]
    }
   ],
   "source": [
    "Addition = x + y\n",
    "\n",
    "Subtraction = x - y\n",
    "\n",
    "Multiplication = x * y\n",
    "\n",
    "Division = x / y\n",
    "\n",
    "print('Addition:-', Addition)\n",
    "print('Subtraction:-', Subtraction)\n",
    "print('Multiplication:-', Multiplication)\n",
    "print('Division:-', Division)"
   ]
  },
  {
   "cell_type": "markdown",
   "id": "fc974f14",
   "metadata": {},
   "source": [
    "2) Question\n",
    "\n",
    "'/' It is the division operator in which floating point value is given.\n",
    "\n",
    "'//' I t is the division operator in which only integer value is given after division.\n",
    "\n",
    "'**' It is power of and exponentiation operator.\n",
    "\n",
    "'^' It is the XOR operator."
   ]
  },
  {
   "cell_type": "markdown",
   "id": "94b23c0c",
   "metadata": {},
   "source": [
    "3) Question\n",
    "\n",
    "AND(&&)\n",
    "\n",
    "OR(||)\n",
    "\n",
    "NOT(~)"
   ]
  },
  {
   "cell_type": "markdown",
   "id": "74043926",
   "metadata": {},
   "source": [
    "4) Question\n",
    "\n",
    "In Right shift operator shift the bits of variable to right by specified number of positions and store the value in same variable.\n",
    "\n",
    "Example binary no. is 10101010 if it shifts to right then number become 00101010\n",
    "\n",
    "In left shift operator shift the bits of variable to left by specified number of position and store the value in the same variable.\n",
    "\n",
    "Example binary number is 10101010 if it shifts to left then number become 10101000"
   ]
  },
  {
   "cell_type": "code",
   "execution_count": null,
   "id": "84fc078d",
   "metadata": {},
   "outputs": [],
   "source": [
    "5) Question\n",
    "\n",
    "List is \n",
    "\n",
    "l = [1,2,3,4,5,6,7,8,9,10,11,12,13,14,15]\n",
    "\n",
    "code:-\n",
    "    \n",
    "for i in l:\n",
    "    if l[i] == 10:\n",
    "        print('Present')\n",
    "    else:\n",
    "        print(\"Not Present\")"
   ]
  }
 ],
 "metadata": {
  "kernelspec": {
   "display_name": "Python 3 (ipykernel)",
   "language": "python",
   "name": "python3"
  },
  "language_info": {
   "codemirror_mode": {
    "name": "ipython",
    "version": 3
   },
   "file_extension": ".py",
   "mimetype": "text/x-python",
   "name": "python",
   "nbconvert_exporter": "python",
   "pygments_lexer": "ipython3",
   "version": "3.10.9"
  }
 },
 "nbformat": 4,
 "nbformat_minor": 5
}
