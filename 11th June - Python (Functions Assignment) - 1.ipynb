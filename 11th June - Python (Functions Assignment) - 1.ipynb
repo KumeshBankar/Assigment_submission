{
 "cells": [
  {
   "cell_type": "markdown",
   "id": "32d5a642",
   "metadata": {},
   "source": [
    "1) Question\n",
    "\n",
    "Lambda Function are without name. They are single line statement. While regular function have name and they have to call that function."
   ]
  },
  {
   "cell_type": "markdown",
   "id": "ef2f341b",
   "metadata": {},
   "source": [
    "2) Question\n",
    "\n",
    "Yes, Lambda function have any number of argument but can return as a only one expression."
   ]
  },
  {
   "cell_type": "code",
   "execution_count": null,
   "id": "58372592",
   "metadata": {},
   "outputs": [],
   "source": [
    "3) Question\n",
    "\n",
    "lambda x=n:print(x)\n",
    "\n",
    "add = lambda x:x+1\n",
    "add(1)"
   ]
  },
  {
   "cell_type": "markdown",
   "id": "74fd0d36",
   "metadata": {},
   "source": [
    "4) Question\n",
    "\n",
    "Advantage of lambda function is that it can be used as single expression and single line statement.Lambda function without name.\n",
    "\n",
    "Disadvatnge of lambda function is that they can made code less readable for complex logic. Debugging can be tricky as lambda function lacks explicit name."
   ]
  },
  {
   "cell_type": "markdown",
   "id": "75d1775b",
   "metadata": {},
   "source": [
    "5) Question\n",
    "\n",
    "No, Lambda function can not access the function outside of their own space."
   ]
  },
  {
   "cell_type": "code",
   "execution_count": null,
   "id": "9632cda0",
   "metadata": {},
   "outputs": [],
   "source": [
    "6) Question\n",
    "\n",
    "square = lambda x:x*x\n",
    "\n",
    "square(2)"
   ]
  },
  {
   "cell_type": "code",
   "execution_count": null,
   "id": "c2fba903",
   "metadata": {},
   "outputs": [],
   "source": [
    "7) Question \n",
    "\n",
    "l = [1,2,3,4,5]\n",
    "\n",
    "maximum = lambda x:max(x)\n",
    "maximum(l)"
   ]
  },
  {
   "cell_type": "code",
   "execution_count": null,
   "id": "bf105e78",
   "metadata": {},
   "outputs": [],
   "source": [
    "8) Question\n",
    "\n",
    "even_num = list(filter(lambda x:x % 2 ==0,l))\n",
    "print(even_num)"
   ]
  },
  {
   "cell_type": "code",
   "execution_count": null,
   "id": "df7ee1c2",
   "metadata": {},
   "outputs": [],
   "source": [
    "9) Question\n",
    "\n",
    "y = ['cricket','football','batmintal']\n",
    "\n",
    "sort_list=sorted(y,key=lambda x:len(x))\n",
    "print(sort_list)"
   ]
  },
  {
   "cell_type": "code",
   "execution_count": null,
   "id": "f5810bc7",
   "metadata": {},
   "outputs": [],
   "source": [
    "10) Question\n",
    "\n",
    "a = [1,2,10,20]\n",
    "b = [10,20,5,6]\n",
    "\n",
    "lst3 = [list(filter(lambda x: x in a, sublist)) for sublist in b]\n",
    "print(lst3)"
   ]
  },
  {
   "cell_type": "code",
   "execution_count": null,
   "id": "320608c5",
   "metadata": {},
   "outputs": [],
   "source": [
    "11) Question\n",
    "\n",
    "def factorial(n): \n",
    "     \n",
    "    # Checking the number\n",
    "    # is 1 or 0 then\n",
    "    # return 1\n",
    "    # other wise return\n",
    "    # factorial\n",
    "    if (n==1 or n==0):\n",
    "         \n",
    "        return 1\n",
    "     \n",
    "    else:\n",
    "         \n",
    "        return (n * factorial(n - 1)) \n",
    " \n",
    "# Driver Code \n",
    "num = 5; \n",
    "print(\"number : \",num)\n",
    "print(\"Factorial : \",factorial(num))"
   ]
  },
  {
   "cell_type": "code",
   "execution_count": null,
   "id": "503cdb45",
   "metadata": {},
   "outputs": [],
   "source": [
    "12) Question\n",
    "\n",
    "# Function for nth Fibonacci number\n",
    " \n",
    "def Fibonacci(n):\n",
    "    if n<= 0:\n",
    "        print(\"Incorrect input\")\n",
    "    # First Fibonacci number is 0\n",
    "    elif n == 1:\n",
    "        return 0\n",
    "    # Second Fibonacci number is 1\n",
    "    elif n == 2:\n",
    "        return 1\n",
    "    else:\n",
    "        return Fibonacci(n-1)+Fibonacci(n-2)\n",
    " \n",
    "# Driver Program\n",
    " \n",
    "print(Fibonacci(10))\n"
   ]
  },
  {
   "cell_type": "code",
   "execution_count": null,
   "id": "d51f053f",
   "metadata": {},
   "outputs": [],
   "source": [
    "13) Question\n",
    "\n",
    "def getSum(piece):\n",
    "    if len(piece)==0:\n",
    "        return 0\n",
    "    else:\n",
    "        return piece[0] + getSum(piece[1:]) \n",
    "    \n",
    "getSum([1, 3, 4, 2, 5])"
   ]
  },
  {
   "cell_type": "code",
   "execution_count": null,
   "id": "21b27404",
   "metadata": {},
   "outputs": [],
   "source": [
    "14) Question\n",
    "\n",
    "def isPalindrome(s, i):\n",
    "    if(i > len(s)/2):\n",
    "       return True\n",
    "    ans = False\n",
    "    if((s[i] is s[len(s) - i - 1]) and isPalindrome(s, i + 1)):\n",
    "      ans = True\n",
    "    return ans\n",
    " \n",
    "str = \"geeg\"\n",
    "if (isPalindrome(str, 0)):\n",
    "    print(\"Yes\")\n",
    "else:\n",
    "    print(\"No\")"
   ]
  },
  {
   "cell_type": "code",
   "execution_count": null,
   "id": "a2e2b899",
   "metadata": {},
   "outputs": [],
   "source": [
    "15) Question\n",
    "\n",
    "def hcf(a, b):\n",
    "    if(b == 0):\n",
    "        return a\n",
    "    else:\n",
    "        return hcf(b, a % b)\n",
    "    \n"
   ]
  }
 ],
 "metadata": {
  "kernelspec": {
   "display_name": "Python 3 (ipykernel)",
   "language": "python",
   "name": "python3"
  },
  "language_info": {
   "codemirror_mode": {
    "name": "ipython",
    "version": 3
   },
   "file_extension": ".py",
   "mimetype": "text/x-python",
   "name": "python",
   "nbconvert_exporter": "python",
   "pygments_lexer": "ipython3",
   "version": "3.10.9"
  }
 },
 "nbformat": 4,
 "nbformat_minor": 5
}
