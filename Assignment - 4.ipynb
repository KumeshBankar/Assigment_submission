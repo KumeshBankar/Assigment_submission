{
 "cells": [
  {
   "cell_type": "markdown",
   "id": "75a2ff11",
   "metadata": {},
   "source": [
    "1) Question\n",
    "\n",
    "It is the empty list value. There is no contain any items."
   ]
  },
  {
   "cell_type": "markdown",
   "id": "3f304fbe",
   "metadata": {},
   "source": [
    "2) Question\n",
    "\n",
    "spam.insert(3,'hello')"
   ]
  },
  {
   "cell_type": "markdown",
   "id": "a526ed53",
   "metadata": {},
   "source": [
    "3) Question\n",
    "\n",
    "spam[int(int('3'*2)/11)] = 'd'"
   ]
  },
  {
   "cell_type": "markdown",
   "id": "be5400a3",
   "metadata": {},
   "source": [
    "4) Question\n",
    "\n",
    "spam[-1] = 'd'"
   ]
  },
  {
   "cell_type": "markdown",
   "id": "89e72a74",
   "metadata": {},
   "source": [
    "5) Question\n",
    "\n",
    "spam[-2] = 'c'"
   ]
  },
  {
   "cell_type": "markdown",
   "id": "a0afc58c",
   "metadata": {},
   "source": [
    "6) Question\n",
    "\n",
    "bacon.index('cat') = 1"
   ]
  },
  {
   "cell_type": "markdown",
   "id": "0538cad6",
   "metadata": {},
   "source": [
    "7) Question\n",
    "\n",
    "bacon.append(99) = [3.14,'cat',11,'cat',True,99]"
   ]
  },
  {
   "cell_type": "markdown",
   "id": "008e0ddf",
   "metadata": {},
   "source": [
    "8) Question\n",
    "\n",
    "bacon.remove = [3.14,11,'True']"
   ]
  },
  {
   "cell_type": "markdown",
   "id": "dd1dd743",
   "metadata": {},
   "source": [
    "9) Question\n",
    "\n",
    "List concatanation operator is = +\n",
    "\n",
    "List Replication operator is = *"
   ]
  },
  {
   "cell_type": "markdown",
   "id": "af17abb2",
   "metadata": {},
   "source": [
    "10) Question\n",
    "\n",
    "Append add the item at the end of list\n",
    "\n",
    "Insert add the item at the specific location of list."
   ]
  },
  {
   "cell_type": "markdown",
   "id": "9f194723",
   "metadata": {},
   "source": [
    "11) Question\n",
    "\n",
    "Two methods are:- Remove() and pop()"
   ]
  },
  {
   "cell_type": "markdown",
   "id": "b212c43e",
   "metadata": {},
   "source": [
    "12) Question\n",
    "\n",
    "List and string are both are sequences. Both have length. \n",
    "\n",
    "The length of string is number of characters it contain.\n",
    "\n",
    "The length of list is number of items it contains."
   ]
  },
  {
   "cell_type": "markdown",
   "id": "e3f854c4",
   "metadata": {},
   "source": [
    "13) Question\n",
    "\n",
    "Tuples cannot be changed while list can be modified.\n",
    "\n",
    "Tuples are immutable and list is mutable."
   ]
  },
  {
   "cell_type": "markdown",
   "id": "b496da38",
   "metadata": {},
   "source": [
    "14) Question\n",
    "\n",
    "Tuple can be type as (42)"
   ]
  },
  {
   "cell_type": "markdown",
   "id": "1eb364e3",
   "metadata": {},
   "source": [
    "15) Question\n",
    "\n",
    "for to get list values in tuple we have to pass the whole list to tuple function.\n",
    "\n",
    "for to get tuple values in list we have to pass the whole tuple functon into square bracket and pass this tuple to list."
   ]
  },
  {
   "cell_type": "markdown",
   "id": "ac668b7c",
   "metadata": {},
   "source": [
    "16) Question\n",
    "\n",
    "Variable will contain references to list values.\n"
   ]
  },
  {
   "cell_type": "markdown",
   "id": "ba46953b",
   "metadata": {},
   "source": [
    "17) Question\n",
    "\n",
    "copy.copy() creates references to the original objects. If you change the copied object, you change the original object.\n",
    "\n",
    "copy.deepcopy() creates new object and does real copying of original object to new one."
   ]
  }
 ],
 "metadata": {
  "kernelspec": {
   "display_name": "Python 3 (ipykernel)",
   "language": "python",
   "name": "python3"
  },
  "language_info": {
   "codemirror_mode": {
    "name": "ipython",
    "version": 3
   },
   "file_extension": ".py",
   "mimetype": "text/x-python",
   "name": "python",
   "nbconvert_exporter": "python",
   "pygments_lexer": "ipython3",
   "version": "3.10.9"
  }
 },
 "nbformat": 4,
 "nbformat_minor": 5
}
