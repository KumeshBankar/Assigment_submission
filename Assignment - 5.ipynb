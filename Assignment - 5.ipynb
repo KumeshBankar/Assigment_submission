{
 "cells": [
  {
   "cell_type": "markdown",
   "id": "fb6f3390",
   "metadata": {},
   "source": [
    "1) Question\n",
    "\n",
    "Empty disctionary is {}"
   ]
  },
  {
   "cell_type": "markdown",
   "id": "64d681e0",
   "metadata": {},
   "source": [
    "2) Question\n",
    "\n",
    "The dictionary value is {'foo':42}"
   ]
  },
  {
   "cell_type": "markdown",
   "id": "ee80c339",
   "metadata": {},
   "source": [
    "3) Question\n",
    "\n",
    "List contains items which are mutable, order and duplicate.\n",
    "\n",
    "Dictionary contain does not contain the duplicates values."
   ]
  },
  {
   "cell_type": "markdown",
   "id": "08454401",
   "metadata": {},
   "source": [
    "4) Question\n",
    "\n",
    "It will show the key error because the spam dictionary does not contain the 'foo' key."
   ]
  },
  {
   "cell_type": "markdown",
   "id": "b47a2f60",
   "metadata": {},
   "source": [
    "5) Question\n",
    "\n",
    "'cat' in spam.keys() will check wheather there is any cat key in a dictionary"
   ]
  },
  {
   "cell_type": "markdown",
   "id": "10482f3d",
   "metadata": {},
   "source": [
    "6) Question\n",
    "\n",
    "'cat' in spam.values() will check wheather there is any values associated with cat."
   ]
  },
  {
   "cell_type": "markdown",
   "id": "a2543e54",
   "metadata": {},
   "source": [
    "7) Question\n",
    "\n",
    "spam.keys()\n"
   ]
  },
  {
   "cell_type": "markdown",
   "id": "c9804338",
   "metadata": {},
   "source": [
    "8) Question\n",
    "\n",
    "import pprint module into your program , then we have access to pprint() and pformat() function, then it will pretty print dictionary values"
   ]
  }
 ],
 "metadata": {
  "kernelspec": {
   "display_name": "Python 3 (ipykernel)",
   "language": "python",
   "name": "python3"
  },
  "language_info": {
   "codemirror_mode": {
    "name": "ipython",
    "version": 3
   },
   "file_extension": ".py",
   "mimetype": "text/x-python",
   "name": "python",
   "nbconvert_exporter": "python",
   "pygments_lexer": "ipython3",
   "version": "3.10.9"
  }
 },
 "nbformat": 4,
 "nbformat_minor": 5
}
