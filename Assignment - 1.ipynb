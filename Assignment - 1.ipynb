{
 "cells": [
  {
   "cell_type": "markdown",
   "id": "07ddcffa",
   "metadata": {},
   "source": [
    "1)\n",
    "\n",
    "Values are :- 'hello',-87.8,6\n",
    "\n",
    "Expression :- *,-,/,+,"
   ]
  },
  {
   "cell_type": "markdown",
   "id": "1495e258",
   "metadata": {},
   "source": [
    "2)\n",
    "\n",
    "Variables are empty box which are used to store data.\n",
    "\n",
    "string are data which are stored at variable.String are the data type which stored at variable."
   ]
  },
  {
   "cell_type": "markdown",
   "id": "84bedc48",
   "metadata": {},
   "source": [
    "3)\n",
    "\n",
    "Data types are :- Integer, string, float "
   ]
  },
  {
   "cell_type": "markdown",
   "id": "7201d7e5",
   "metadata": {},
   "source": [
    "4)\n",
    "\n",
    "Expression is made up of mathematical operators. Expression is used to do mathematical calculation."
   ]
  },
  {
   "cell_type": "markdown",
   "id": "06e1e3f1",
   "metadata": {},
   "source": [
    "5)\n",
    "\n",
    "Expression is used to do the mathematical calculation.\n",
    "\n",
    "Statement is used to stored the data in perticular variable."
   ]
  },
  {
   "cell_type": "markdown",
   "id": "97ec1c9a",
   "metadata": {},
   "source": [
    "6)\n",
    "\n",
    "bacon = 23"
   ]
  },
  {
   "cell_type": "markdown",
   "id": "79dc1c4c",
   "metadata": {},
   "source": [
    "7)\n",
    "\n",
    "'spam' + 'spamspam' = 'spamspamspam'\n",
    "\n",
    "'spam'*3 = 'spamspamspam'"
   ]
  },
  {
   "cell_type": "markdown",
   "id": "6f83d11c",
   "metadata": {},
   "source": [
    "8)\n",
    "\n",
    "Because we stored the data in a variable. So, 100 is a numerical value not a variable. 100 is a data. Where eggs is variable."
   ]
  },
  {
   "cell_type": "markdown",
   "id": "5c4d9c9b",
   "metadata": {},
   "source": [
    "9)\n",
    "\n",
    "The three function are used are to get \n",
    "\n",
    "integer = int(value)\n",
    "\n",
    "float-point = float(value)\n",
    "\n",
    "string = str(value)"
   ]
  },
  {
   "cell_type": "markdown",
   "id": "0e1e18b8",
   "metadata": {},
   "source": [
    "10)\n",
    "\n",
    "The given Expression cause an error because the during addition all values should be similar data types\n",
    "where 99 is different than other.\n",
    "\n",
    "To fixed this error convert 99 integer data type into string data type.\n",
    "\n",
    "The corrected expression is 'I have eaten' + '99' + 'burritos'."
   ]
  }
 ],
 "metadata": {
  "kernelspec": {
   "display_name": "Python 3 (ipykernel)",
   "language": "python",
   "name": "python3"
  },
  "language_info": {
   "codemirror_mode": {
    "name": "ipython",
    "version": 3
   },
   "file_extension": ".py",
   "mimetype": "text/x-python",
   "name": "python",
   "nbconvert_exporter": "python",
   "pygments_lexer": "ipython3",
   "version": "3.10.9"
  }
 },
 "nbformat": 4,
 "nbformat_minor": 5
}
