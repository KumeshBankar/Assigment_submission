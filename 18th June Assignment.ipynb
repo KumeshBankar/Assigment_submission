{
 "cells": [
  {
   "cell_type": "code",
   "execution_count": null,
   "id": "b55f1e84",
   "metadata": {},
   "outputs": [],
   "source": [
    "1) Question\n",
    "\n",
    "The else block lets you execute code when there is no error.\n",
    "\n",
    "Example:-\n",
    "\n",
    "try:\n",
    "  print(\"Hello\")\n",
    "except:\n",
    "  print(\"Something went wrong\")\n",
    "else:\n",
    "  print(\"Nothing went wrong\")\n"
   ]
  },
  {
   "cell_type": "code",
   "execution_count": null,
   "id": "14e73192",
   "metadata": {},
   "outputs": [],
   "source": [
    "2) Question\n",
    "\n",
    "Yes, we can nested try except block inside another try except block.\n",
    "\n",
    "Example\n",
    "\n",
    "a=10\n",
    "b=0\n",
    "try:\n",
    "   print (a/b)\n",
    "   try:\n",
    "      print (\"This is inner try block\")\n",
    "   except Exception:\n",
    "      print (\"General exception\")\n",
    "   finally:\n",
    "      print (\"inside inner finally block\")\n",
    "      \n",
    "except ZeroDivisionError:\n",
    "   print (\"Division by 0\")\n",
    "finally:\n",
    "   print (\"inside outer finally block\")"
   ]
  },
  {
   "cell_type": "code",
   "execution_count": null,
   "id": "d7c989cd",
   "metadata": {},
   "outputs": [],
   "source": [
    "3) Question\n",
    "\n",
    "class CustomError(Exception):\n",
    "    pass\n",
    "\n",
    "raise CustomError(\"Example of Custom Exceptions in Python\")\n",
    "\n",
    "Example:-\n",
    "    \n",
    "class MyError(Exception):\n",
    " \n",
    "    # Constructor or Initializer\n",
    "    def __init__(self, value):\n",
    "        self.value = value\n",
    " \n",
    "    # __str__ is to print() the value\n",
    "    def __str__(self):\n",
    "        return(repr(self.value))\n",
    " \n",
    " \n",
    "try:\n",
    "    raise(MyError(3*2))\n",
    " \n",
    "# Value of Exception is stored in error\n",
    "except MyError as error:\n",
    "    print('A New Exception occurred: ', error.value)"
   ]
  },
  {
   "cell_type": "markdown",
   "id": "894b67fb",
   "metadata": {},
   "source": [
    "4) Question\n",
    "\n",
    "Common exception are\n",
    "\n",
    "syntaxError, TabError, SystemError, EOFrror, FloatingPointError"
   ]
  },
  {
   "cell_type": "markdown",
   "id": "0d2097fc",
   "metadata": {},
   "source": [
    "5) Question\n",
    "\n",
    "Logging is a tracking events that happen when software runs.\n",
    "\n",
    "Logging important in software development because it helps developers to understand what is happening within their application especially when something goes wrong."
   ]
  },
  {
   "cell_type": "markdown",
   "id": "57a1e44a",
   "metadata": {},
   "source": [
    "6) Question\n",
    "\n",
    "Logging levels are used to categorize the severity or urgency of each message loggged by an application.\n",
    "\n",
    "Each log level has different purposes.\n",
    "\n",
    "DEBUG is used for debugging purposes.\n",
    "\n",
    "INFO is used for general information.\n",
    "\n",
    "WARN is used for potential issue.\n",
    "\n",
    "ERROR is used for errors."
   ]
  },
  {
   "cell_type": "code",
   "execution_count": null,
   "id": "5b9a743d",
   "metadata": {},
   "outputs": [],
   "source": [
    "7) Question\n",
    "\n",
    "Logging formatter is created and added to the handler to transform log messages into placeholder data.\n",
    "\n",
    "First we need to create a logger, which is nothing but an object to the logger class. We can create this by using getLogger() method. \n",
    "After creating the logger object we have to set the log level using setLevel() method.\n",
    "\n",
    "logger = logging.getLogger(‘demologger’)\n",
    "logger.setLevel(logging.INFO)\n",
    "\n"
   ]
  },
  {
   "cell_type": "markdown",
   "id": "b05c59b1",
   "metadata": {},
   "source": [
    "8) Question\n",
    "\n",
    "for logging capture the setup is\n",
    "\n",
    "For this we have to use the sys. excepthook that allows us to attach a handler for any unhandled exception.\n",
    "\n",
    "Creating a logger logger = logging. getLogger(name) logging. basicConfig(filename='example')"
   ]
  },
  {
   "cell_type": "markdown",
   "id": "dae71a41",
   "metadata": {},
   "source": [
    "9) Question\n",
    "\n",
    "Print statement will just print text to console.\n",
    "\n",
    "Log() actually records it and we can use it for many purposes like email it for bug report.\n",
    "\n",
    "Logging is used when we want to customize what information to be printed along with the actual message."
   ]
  },
  {
   "cell_type": "code",
   "execution_count": null,
   "id": "c32a1fc3",
   "metadata": {},
   "outputs": [],
   "source": [
    "10) Question\n",
    "\n",
    "import logging\n",
    "logging.basicConfig(filename='app.log', encoding='utf-8', level=logging.INFO)\n",
    "logging.info('Hello World!')"
   ]
  },
  {
   "cell_type": "code",
   "execution_count": null,
   "id": "d543e9c4",
   "metadata": {},
   "outputs": [],
   "source": [
    "11) Question\n",
    "\n",
    "import logging\n",
    "import logging.handlers as handlers\n",
    "import time\n",
    "\n",
    "logger = logging.getLogger('my_app')\n",
    "logger.setLevel(logging.INFO)\n",
    "\n",
    "## Here we define our formatter\n",
    "formatter = logging.Formatter('%(asctime)s - %(name)s - %(levelname)s - %(message)s')\n",
    "\n",
    "logHandler = handlers.TimedRotatingFileHandler('normal.log', when='M', interval=1, backupCount=0)\n",
    "logHandler.setLevel(logging.INFO)\n",
    "logHandler.setFormatter(formatter)\n",
    "\n",
    "errorLogHandler = handlers.RotatingFileHandler('error.log', maxBytes=5000, backupCount=0)\n",
    "errorLogHandler.setLevel(logging.ERROR)\n",
    "errorLogHandler.setFormatter(formatter)\n",
    "\n",
    "logger.addHandler(logHandler)\n",
    "logger.addHandler(errorLogHandler)\n",
    "\n",
    "def main():\n",
    "    while True:\n",
    "        time.sleep(1)\n",
    "        logger.info(\"A Sample Log Statement\")\n",
    "        logger.error(\"An error log statement\")\n",
    "\n",
    "main()"
   ]
  }
 ],
 "metadata": {
  "kernelspec": {
   "display_name": "Python 3 (ipykernel)",
   "language": "python",
   "name": "python3"
  },
  "language_info": {
   "codemirror_mode": {
    "name": "ipython",
    "version": 3
   },
   "file_extension": ".py",
   "mimetype": "text/x-python",
   "name": "python",
   "nbconvert_exporter": "python",
   "pygments_lexer": "ipython3",
   "version": "3.10.9"
  }
 },
 "nbformat": 4,
 "nbformat_minor": 5
}
